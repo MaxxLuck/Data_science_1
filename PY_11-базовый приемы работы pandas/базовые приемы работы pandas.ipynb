{
 "cells": [
  {
   "cell_type": "code",
   "execution_count": 15,
   "metadata": {},
   "outputs": [
    {
     "data": {
      "text/plain": [
       "170000.0"
      ]
     },
     "metadata": {},
     "output_type": "display_data"
    },
    {
     "data": {
      "text/plain": [
       "131000.0"
      ]
     },
     "metadata": {},
     "output_type": "display_data"
    },
    {
     "name": "stdout",
     "output_type": "stream",
     "text": [
      "Index(['Reservoir', 'Richmond', 'Bentleigh East', 'Preston', 'Brunswick',\n",
      "       'Essendon', 'South Yarra', 'Glen Iris', 'Hawthorn', 'Coburg',\n",
      "       ...\n",
      "       'Albion', 'Hoppers Crossing', 'Sunbury', 'Greensborough', 'Bundoora',\n",
      "       'Hughesdale', 'Chadstone', 'Caulfield North', 'Mont Albert',\n",
      "       'Alphington'],\n",
      "      dtype='object', length=119)\n"
     ]
    },
    {
     "data": {
      "text/plain": [
       "0          Abbotsford\n",
       "1          Abbotsford\n",
       "2          Abbotsford\n",
       "3          Abbotsford\n",
       "4          Abbotsford\n",
       "             ...     \n",
       "13575           other\n",
       "13576    Williamstown\n",
       "13577    Williamstown\n",
       "13578    Williamstown\n",
       "13579      Yarraville\n",
       "Name: Suburb, Length: 13580, dtype: category\n",
       "Categories (120, object): ['Abbotsford', 'Aberfeldie', 'Airport West', 'Albert Park', ..., 'Williamstown', 'Windsor', 'Yarraville', 'other']"
      ]
     },
     "metadata": {},
     "output_type": "display_data"
    },
    {
     "name": "stdout",
     "output_type": "stream",
     "text": [
      "<class 'pandas.core.frame.DataFrame'>\n",
      "RangeIndex: 13580 entries, 0 to 13579\n",
      "Data columns (total 25 columns):\n",
      " #   Column           Non-Null Count  Dtype         \n",
      "---  ------           --------------  -----         \n",
      " 0   Suburb           13580 non-null  category      \n",
      " 1   Rooms            13580 non-null  int64         \n",
      " 2   Type             13580 non-null  category      \n",
      " 3   Price            13580 non-null  float64       \n",
      " 4   Method           13580 non-null  category      \n",
      " 5   SellerG          13580 non-null  category      \n",
      " 6   Date             13580 non-null  datetime64[ns]\n",
      " 7   Distance         13580 non-null  float64       \n",
      " 8   Postcode         13580 non-null  int64         \n",
      " 9   Bedroom          13580 non-null  int64         \n",
      " 10  Bathroom         13580 non-null  int64         \n",
      " 11  Car              13580 non-null  int64         \n",
      " 12  Landsize         13580 non-null  float64       \n",
      " 13  BuildingArea     13580 non-null  float64       \n",
      " 14  YearBuilt        13580 non-null  category      \n",
      " 15  CouncilArea      12211 non-null  category      \n",
      " 16  Lattitude        13580 non-null  float64       \n",
      " 17  Longtitude       13580 non-null  float64       \n",
      " 18  Regionname       13580 non-null  category      \n",
      " 19  Propertycount    13580 non-null  int64         \n",
      " 20  MeanRoomsSquare  13580 non-null  float64       \n",
      " 21  AreaRatio        13580 non-null  float64       \n",
      " 22  WeekdaySale      13580 non-null  category      \n",
      " 23  StreetType       13580 non-null  category      \n",
      " 24  Weekend          13580 non-null  category      \n",
      "dtypes: category(10), datetime64[ns](1), float64(8), int64(6)\n",
      "memory usage: 1.7 MB\n"
     ]
    },
    {
     "data": {
      "text/plain": [
       "None"
      ]
     },
     "metadata": {},
     "output_type": "display_data"
    }
   ],
   "source": [
    "from email.headerregistry import Address\n",
    "from unicodedata import category\n",
    "import pandas as pd\n",
    "melb_data = pd.read_csv('data/melb_data_ps.csv', sep = ',')\n",
    "melb_df = melb_data.copy()\n",
    "\n",
    "melb_df = melb_df.drop(['index', 'Coordinates'], axis=1)\n",
    "\n",
    "total_rooms = melb_df['Bathroom'] + melb_df['Rooms'] + melb_df['Bedroom']\n",
    "melb_df['MeanRoomsSquare'] = melb_df['BuildingArea'] / total_rooms\n",
    "\n",
    "diff_area = melb_df['BuildingArea'] - melb_df['Landsize']\n",
    "sum_area = melb_df['BuildingArea'] + melb_df['Landsize']\n",
    "melb_df['AreaRatio'] = diff_area/sum_area\n",
    "\n",
    "melb_df['Date'] = pd.to_datetime(melb_df['Date'], dayfirst=True)\n",
    "#display(melb_df['Date'])\n",
    "melb_df['WeekdaySale'] = melb_df['Date'].dt.day_of_week\n",
    "weekend_count = melb_df[(melb_df['WeekdaySale'] == 5) | (melb_df['WeekdaySale'] == 6)].shape[0]\n",
    "#display(weekend_count)\n",
    "#display(melb_df['WeekdaySale'])\n",
    "\n",
    "# Преобразование столбцов с помощью функций\n",
    "def get_street_type(address):\n",
    "    exclude_list = ['N', 'S', 'W', 'E']\n",
    "    address_list = address.split(' ')\n",
    "    street_type = address_list[-1]\n",
    "    if street_type in exclude_list:\n",
    "        street_type = address_list[-2]\n",
    "    return street_type\n",
    "\n",
    "street_types = melb_df['Address'].apply(get_street_type)\n",
    "#display(street_types)\n",
    "#print(street_types.nunique()) \n",
    "#street_types.value_counts()   \n",
    "popular_stypes =street_types.value_counts().nlargest(10).index\n",
    "#print(popular_stypes)\n",
    "melb_df['StreetType'] = street_types.apply(lambda x: x if x in popular_stypes else 'other')\n",
    "#display(melb_df['StreetType'])\n",
    "melb_df['StreetType'].nunique()\n",
    "melb_df = melb_df.drop('Address', axis=1)\n",
    "\n",
    "def get_weekend(weekday):\n",
    "    if weekday == 5 or weekday == 6:\n",
    "        return 1\n",
    "    else:\n",
    "        return 0\n",
    "    \n",
    "melb_df['Weekend'] = melb_df['WeekdaySale'].apply(get_weekend)\n",
    "#round(melb_df[melb_df['Weekend'] == 1]['Price'].mean())\n",
    "\n",
    "\n",
    "best_sellers = melb_df['SellerG'].value_counts().nlargest(49).index\n",
    "melb_df['SellerG'] = melb_df['SellerG'].apply(lambda x: x if x in best_sellers else 'other')\n",
    "min_price_Nelson = melb_df[melb_df['SellerG'] == 'Nelson']['Price'].min()\n",
    "display(min_price_Nelson)\n",
    "min_price_other = melb_df[melb_df['SellerG'] == 'other']['Price'].min()\n",
    "display(min_price_other)\n",
    "dif_price = round(min_price_Nelson/min_price_other, 2)\n",
    "#print(dif_price)\n",
    "#display(melb_df['SellerG'].value_counts())\n",
    "\n",
    "\n",
    "# КАТЕГОРИИ\n",
    "\n",
    "#определяем число уникальных категорий в каждом столбце\n",
    "# создаём пустой список\n",
    "unique_list = []\n",
    "# пробегаемся по именам столбцов в таблице\n",
    "for col in melb_df.columns:\n",
    "    # создаём кортеж (имя столбца, число уникальных значений)\n",
    "    item = (col, melb_df[col].nunique(),melb_df[col].dtypes) \n",
    "    # добавляем кортеж в список\n",
    "    unique_list.append(item) \n",
    "# создаём вспомогательную таблицу и сортируем её\n",
    "unique_counts = pd.DataFrame(\n",
    "    unique_list,\n",
    "    columns=['Column_Name', 'Num_Unique', 'Type']\n",
    ").sort_values(by='Num_Unique',  ignore_index=True)\n",
    "# выводим её на экран\n",
    "#display(unique_counts)\n",
    "\n",
    "#преобразование некоторых столбцов к типу данных category\n",
    "cols_to_exclude = ['Date', 'Rooms', 'Bedroom', 'Bathroom', 'Car'] # список столбцов, которые мы не берём во внимание\n",
    "max_unique_count = 150 # задаём максимальное число уникальных категорий\n",
    "for col in melb_df.columns: # цикл по именам столбцов\n",
    "    if melb_df[col].nunique() < max_unique_count and col not in cols_to_exclude: # проверяем условие\n",
    "        melb_df[col] = melb_df[col].astype('category') # преобразуем тип столбца\n",
    "#display(melb_df.info())\n",
    "\n",
    "\n",
    "sub_categ = melb_df['Suburb'].value_counts().nlargest(119).index\n",
    "print(sub_categ)\n",
    "melb_df['Suburb'] = melb_df['Suburb'].apply(lambda x: x if x in sub_categ else 'other')\n",
    "\n",
    "melb_df['Suburb'] = melb_df['Suburb'].astype('category')\n",
    "display(melb_df['Suburb'])\n",
    "display(melb_df.info())"
   ]
  },
  {
   "cell_type": "code",
   "execution_count": 36,
   "metadata": {},
   "outputs": [
    {
     "name": "stdout",
     "output_type": "stream",
     "text": [
      "84.93\n"
     ]
    }
   ],
   "source": [
    "countries_df = pd.DataFrame({\n",
    "    'country': ['Англия', 'Канада', 'США', 'Россия', 'Украина', 'Беларусь', 'Казахстан'],\n",
    "    'population': [56.29, 38.05, 322.28, 146.24, 45.5, 9.5, 17.04],\n",
    "    'square': [133396, 9984670, 9826630, 17125191, 603628, 207600, 2724902]\n",
    "})\n",
    "countries_df['density'] = (countries_df['population'] / countries_df['square']) * 1000000\n",
    "print(round((countries_df['density'].mean()), 2))\n",
    "#display(countries_df['density'])"
   ]
  },
  {
   "cell_type": "code",
   "execution_count": 30,
   "metadata": {},
   "outputs": [
    {
     "name": "stdout",
     "output_type": "stream",
     "text": [
      "68.92932862190813\n"
     ]
    }
   ],
   "source": [
    "\n",
    "import pandas as pd\n",
    "df = pd.read_csv('data/ufo.csv', sep = ',')\n",
    "#ufo_data.info()\n",
    "#ufo_data.shape\n",
    "df['Time'] = pd.to_datetime(df['Time'], dayfirst=False)\n",
    "#years_view = ufo_data['Time'].dt.year\n",
    "#print(years_view.mode())\n",
    "df['Date'] = df['Time'].dt.date\n",
    "print(df[df['State']=='NV']['Date'].diff().dt.days.mean())\n",
    "#ufo_data.head()"
   ]
  },
  {
   "cell_type": "code",
   "execution_count": 90,
   "metadata": {},
   "outputs": [
    {
     "name": "stdout",
     "output_type": "stream",
     "text": [
      "['Опыт', 'работы', '8', 'лет', '3', 'месяца']\n",
      "['Опыт', 'работы', '3', 'года', '5', 'месяцев']\n",
      "['Опыт', 'работы', '1', 'год', '9', 'месяцев']\n",
      "['Опыт', 'работы', '3', 'месяца']\n",
      "['Опыт', 'работы', '6', 'лет']\n",
      "0    99\n",
      "1    41\n",
      "2    21\n",
      "3     3\n",
      "4    72\n",
      "dtype: int64\n"
     ]
    }
   ],
   "source": [
    "import pandas as pd\n",
    "\n",
    "def get_experience(arg):\n",
    "    \"\"\"\n",
    "    Напишите функцию get_experience(arg), аргументом которой является строка столбца с опытом работы. \n",
    "    Функция должна возвращать опыт работы в месяцах. Не забудьте привести результат к целому числу.\n",
    "    \"\"\"\n",
    "    experience = int(0)\n",
    "    list_month = ['месяц', 'месяцев', 'месяца']\n",
    "    list_year = ['год', 'года', 'лет']\n",
    "    list_arg = arg.split(\" \")\n",
    "    print(list_arg)\n",
    "    if list_arg[-1] in list_month:\n",
    "        experience += int(list_arg[-2])\n",
    "    else:\n",
    "        if list_arg[-1] in list_year:\n",
    "            experience = experience +int(list_arg[-2])*12\n",
    "            return experience\n",
    "    if list_arg[-3] in list_year:\n",
    "        experience = experience + int(list_arg[-4])*12\n",
    "        return experience\n",
    "    else:\n",
    "        return experience\n",
    "    \n",
    "      \n",
    "\n",
    "experience_col = pd.Series([\n",
    "        'Опыт работы 8 лет 3 месяца',\n",
    "        'Опыт работы 3 года 5 месяцев',\n",
    "        'Опыт работы 1 год 9 месяцев',\n",
    "        'Опыт работы 3 месяца',\n",
    "        'Опыт работы 6 лет'\n",
    "        ])\n",
    "experience_month = experience_col.apply(get_experience)\n",
    "print(experience_month)"
   ]
  },
  {
   "cell_type": "code",
   "execution_count": 117,
   "metadata": {},
   "outputs": [
    {
     "data": {
      "text/plain": [
       "day        143012\n",
       "morning     95530\n",
       "evening     46373\n",
       "night       15085\n",
       "Name: time_of_day, dtype: int64"
      ]
     },
     "metadata": {},
     "output_type": "display_data"
    },
    {
     "data": {
      "text/plain": [
       "143012"
      ]
     },
     "metadata": {},
     "output_type": "display_data"
    },
    {
     "data": {
      "text/plain": [
       "15085"
      ]
     },
     "metadata": {},
     "output_type": "display_data"
    },
    {
     "data": {
      "text/plain": [
       "9"
      ]
     },
     "metadata": {},
     "output_type": "display_data"
    }
   ],
   "source": [
    "import pandas as pd\n",
    "bike_df = pd.read_csv(\"data/citibike-tripdata.csv\")\n",
    "#bike_df.info()\n",
    "#display(round(bike_df['start station id'].mode()[0])) #Найдите идентификатор самой популярной стартовой стоянки. Запишите идентификатор в виде целого числа.\n",
    "#bike_df['bikeid'].mode() #Велосипед с каким идентификатором является самым популярным?\n",
    "#bike_df['usertype']. value_counts(normalize= True) #Какой тип клиентов (столбец usertype) является преобладающим — Subscriber или Customer? \n",
    "#bike_df['gender'].value_counts()\n",
    "#display(bike_df['start station id'].nunique())\n",
    "#display(bike_df['end station id'].nunique())\n",
    "#bike_df['birth year'].max()\n",
    "#display(bike_df['end station name'].value_counts())\n",
    "bike_df.drop(['start station id', 'end station id'], axis=1, inplace=True)\n",
    "bike_df['age'] = 2018 - bike_df['birth year']\n",
    "bike_copy = bike_df #копия базы\n",
    "bike_df.drop(['birth year'], axis=1, inplace=True)\n",
    "#bike_df[bike_df['age'] > 60].shape[0] #Сколько поездок совершено клиентами старше 60 лет?\n",
    "bike_df['starttime'] = pd.to_datetime(bike_df['starttime'])\n",
    "bike_df['stoptime'] = pd.to_datetime(bike_df['stoptime'])\n",
    "bike_df['trip duration'] = bike_df['stoptime'] - bike_df['starttime']\n",
    "#bike_df['trip duration'][3]\n",
    "#Создайте «признак-мигалку» weekend, который равен 1, если поездка начиналась в выходной день \n",
    "#(суббота или воскресенье), и 0 — в противном случае. Выясните, сколько поездок начиналось в выходные.\n",
    "day_week = bike_df['starttime'].dt.day_of_week\n",
    "#display(day_week)\n",
    "def get_wekeend(day_week):\n",
    "    if days == 5 or days == 6:\n",
    "        return 1\n",
    "    else:\n",
    "        return 0\n",
    "        \n",
    "bike_df['weekend'] = day_week.apply(get_weekend)\n",
    "#display(bike_df['weekend'].value_counts())\n",
    "\n",
    "\n",
    "trip_time = bike_df['starttime'].dt.hour\n",
    "def get_time(time):\n",
    "    if 0 <= time <= 6:\n",
    "        return 'night'\n",
    "    if 6 < time <= 12:\n",
    "        return 'morning'\n",
    "    if 12 < time <= 18:\n",
    "        return 'day'\n",
    "    if 18 < time <=23:\n",
    "        return 'evening'\n",
    "    else:\n",
    "        return 'else'\n",
    "bike_df['time_of_day'] = trip_time.apply(get_time)     \n",
    "display(bike_df['time_of_day'].value_counts())\n",
    "day_way= bike_df[bike_df['time_of_day'] == 'day'].shape[0]\n",
    "night_way = bike_df[bike_df['time_of_day'] == 'night'].shape[0]\n",
    "dif_=round(day_way/night_way)\n",
    "display(day_way)\n",
    "display(night_way)\n",
    "display(dif_)\n"
   ]
  },
  {
   "cell_type": "markdown",
   "metadata": {},
   "source": []
  }
 ],
 "metadata": {
  "kernelspec": {
   "display_name": "Python 3.9.10 64-bit",
   "language": "python",
   "name": "python3"
  },
  "language_info": {
   "codemirror_mode": {
    "name": "ipython",
    "version": 3
   },
   "file_extension": ".py",
   "mimetype": "text/x-python",
   "name": "python",
   "nbconvert_exporter": "python",
   "pygments_lexer": "ipython3",
   "version": "3.9.10"
  },
  "orig_nbformat": 4,
  "vscode": {
   "interpreter": {
    "hash": "6f8807c9cb47accbb66be0a2137b6c6d3d4773e0a7df06a44642f5d16155ae11"
   }
  }
 },
 "nbformat": 4,
 "nbformat_minor": 2
}
